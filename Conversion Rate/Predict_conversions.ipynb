{
 "cells": [
  {
   "attachments": {},
   "cell_type": "markdown",
   "metadata": {},
   "source": [
    "# Challenge : predict conversions 🏆🏆\n",
    "\n",
    "### EDA\n",
    " - EDA\n",
    "\n",
    "### PREPROCESSING\n",
    " - Preprocessing\n",
    "\n",
    "### MODELS\n",
    " - Decision Tree\n",
    " - Adaboost Logistic Regression\n",
    " - Adaboost Decision Tree\n",
    " - XGBoost\n",
    " - SGDClassifier\n",
    "\n",
    "### MAKE PREDICTIONS"
   ]
  },
  {
   "cell_type": "code",
   "execution_count": null,
   "metadata": {},
   "outputs": [],
   "source": [
    "import pandas as pd\n",
    "import numpy as np\n",
    "import seaborn as sns\n",
    "\n",
    "from sklearn.model_selection import train_test_split\n",
    "from sklearn.impute import SimpleImputer\n",
    "from sklearn.preprocessing import StandardScaler\n",
    "from sklearn.compose import ColumnTransformer\n",
    "from sklearn.linear_model import LogisticRegression\n",
    "from sklearn.metrics import f1_score, confusion_matrix\n",
    "from sklearn.model_selection import GridSearchCV\n",
    "from sklearn.ensemble import RandomForestClassifier, BaggingClassifier, AdaBoostClassifier, GradientBoostingClassifier, StackingClassifier\n",
    "from sklearn.tree import DecisionTreeClassifier\n",
    "\n",
    "import matplotlib.pyplot as plt\n",
    "import plotly.express as px\n",
    "import plotly.graph_objects as go\n",
    "import plotly.io as pio\n",
    "from IPython.display import display"
   ]
  },
  {
   "cell_type": "code",
   "execution_count": null,
   "metadata": {},
   "outputs": [],
   "source": [
    "# import the dataset\n",
    "df = pd.read_csv('conversion_data_train.csv')"
   ]
  },
  {
   "cell_type": "code",
   "execution_count": null,
   "metadata": {},
   "outputs": [],
   "source": [
    "# show the most relevants informations about the dataset\n",
    "print(\"Number of rows : {}\".format(df.shape[0]))\n",
    "print()\n",
    "\n",
    "print(\"Display of dataset: \")\n",
    "display(df.head())\n",
    "print()\n",
    "\n",
    "print(\"Basics statistics: \")\n",
    "data_desc = df.describe(include='all')\n",
    "display(data_desc)\n",
    "print()\n",
    "\n",
    "print(\"Percentage of missing values: \")\n",
    "display(100*df.isnull().sum()/df.shape[0])"
   ]
  },
  {
   "attachments": {},
   "cell_type": "markdown",
   "metadata": {},
   "source": [
    "### EDA"
   ]
  },
  {
   "cell_type": "code",
   "execution_count": null,
   "metadata": {},
   "outputs": [],
   "source": [
    "fig = px.histogram(df, x='age', color=df.age,\n",
    "                  title = 'Ages distribution',\n",
    "                  color_discrete_sequence=['lightcyan'])\n",
    "fig.update_layout(title_x = 0.5, \n",
    "                      margin=dict(l=50,r=50,b=50,t=50,pad=4),\n",
    "                      xaxis_title = '',\n",
    "                      yaxis_title = '',\n",
    "                      template = 'plotly_dark',\n",
    "                      )\n",
    "fig.update_layout({'plot_bgcolor': 'rgba(0, 0, 0, 0)',\n",
    "                    'paper_bgcolor': 'rgba(0, 0, 0, 0)'}\n",
    "                      )  \n",
    "\n",
    "fig.show()"
   ]
  },
  {
   "attachments": {},
   "cell_type": "markdown",
   "metadata": {},
   "source": [
    "- The majority of users are between 17 and 63 years old."
   ]
  },
  {
   "cell_type": "code",
   "execution_count": null,
   "metadata": {},
   "outputs": [],
   "source": [
    "# We keep only data of users younger then 63 years old \n",
    "df = df[df['age'] < 63]"
   ]
  },
  {
   "cell_type": "code",
   "execution_count": null,
   "metadata": {},
   "outputs": [],
   "source": [
    "converted = dict(df.converted.groupby(df.converted).count())\n",
    "\n",
    "fig = px.pie(converted.items(), values= converted.values(), names= converted.keys(), color= converted.keys(),\n",
    "            title= \"Proportion of subscribed newsletters\",\n",
    "             color_discrete_map={'0':'lightcyan',\n",
    "                                 '1':'royalblue',\n",
    "                                })\n",
    "fig.update_traces(textposition = 'outside', textfont_size = 15)             \n",
    "fig.update_layout(title_x = 0.5, \n",
    "                    margin=dict(l=50,r=50,b=50,t=50,pad=4), \n",
    "                    template = 'plotly_dark'\n",
    "                    )   \n",
    "fig.show()"
   ]
  },
  {
   "attachments": {},
   "cell_type": "markdown",
   "metadata": {},
   "source": [
    "- Only 3.23 % of users has subscribed to the newsletter."
   ]
  },
  {
   "cell_type": "code",
   "execution_count": null,
   "metadata": {},
   "outputs": [],
   "source": [
    "fig = px.histogram(df, x=\"converted\",\n",
    "                      title = 'Proportion of new users and the conversion rate',\n",
    "                      color = 'new_user',\n",
    "                      histnorm= 'percent',\n",
    "                      barmode ='group',\n",
    "                      width= 800,\n",
    "                      height = 600,\n",
    "                      text_auto = True,\n",
    "                      color_discrete_map={'1':'lightcyan',\n",
    "                                 '0':'royalblue',\n",
    "                                })\n",
    "                    \n",
    "fig.update_layout(title_x = 0.5, \n",
    "                      margin=dict(l=50,r=50,b=50,t=50,pad=4),\n",
    "                      xaxis_title = '',\n",
    "                      yaxis_title = '',\n",
    "                      template = 'plotly_dark'\n",
    "                      )\n",
    "fig.update_layout({'plot_bgcolor': 'rgba(0, 0, 0, 0)',\n",
    "                    'paper_bgcolor': 'rgba(0, 0, 0, 0)'}\n",
    "                      )  \n",
    "\n",
    "fig.show()"
   ]
  },
  {
   "attachments": {},
   "cell_type": "markdown",
   "metadata": {},
   "source": [
    "- Only 1.40 % of __new users__ subscribed to the newsletter.\n",
    "\n",
    "- The newsletter has been subscribed mostly by __regulars users__ (7.19%)."
   ]
  },
  {
   "cell_type": "code",
   "execution_count": null,
   "metadata": {},
   "outputs": [],
   "source": [
    "fig = px.histogram(df, x=\"country\",\n",
    "                      title = 'Proportion of countries and the conversion rate',\n",
    "                      color = 'converted',\n",
    "                      histnorm= 'percent',\n",
    "                      barmode ='group',\n",
    "                      width= 800,\n",
    "                      height = 600,\n",
    "                      text_auto = True,\n",
    "                      color_discrete_map={'1':'lightcyan',\n",
    "                                 '0':'royalblue',\n",
    "                                })\n",
    "                    \n",
    "fig.update_layout(title_x = 0.5, \n",
    "                      margin=dict(l=50,r=50,b=50,t=50,pad=4),\n",
    "                      xaxis_title = '',\n",
    "                      yaxis_title = '',\n",
    "                      template = 'plotly_dark'\n",
    "                      )\n",
    "fig.update_layout({'plot_bgcolor': 'rgba(0, 0, 0, 0)',\n",
    "                    'paper_bgcolor': 'rgba(0, 0, 0, 0)'}\n",
    "                      )  \n",
    "\n",
    "fig.show()"
   ]
  },
  {
   "attachments": {},
   "cell_type": "markdown",
   "metadata": {},
   "source": [
    "- __US__ is the country with the highest ratio of subscribed newsletters.\n",
    "\n",
    "- The second highest country is __UK__. However, they have a _subscription rate that is less than the half_ of US subscriptions.\n",
    "\n",
    "- __China__ has the lowest ratio of subscriptions."
   ]
  },
  {
   "cell_type": "code",
   "execution_count": null,
   "metadata": {},
   "outputs": [],
   "source": [
    "fig = px.histogram(df, x=\"total_pages_visited\", color=\"converted\",\n",
    "                   marginal=\"box\", # or violin, rug\n",
    "                   title = 'Proportion of visited pages and the conversion rate',\n",
    "                   hover_data=df.columns,\n",
    "                   color_discrete_map={'1':'lightcyan',\n",
    "                                 '0':'royalblue',\n",
    "                                })                    \n",
    "fig.update_layout(title_x = 0.5, \n",
    "                      margin=dict(l=50,r=50,b=50,t=50,pad=4),\n",
    "                      xaxis_title = '',\n",
    "                      yaxis_title = '',\n",
    "                      template = 'plotly_dark'\n",
    "                      )\n",
    "fig.update_layout({'plot_bgcolor': 'rgba(0, 0, 0, 0)',\n",
    "                    'paper_bgcolor': 'rgba(0, 0, 0, 0)'}\n",
    "                      )  \n",
    "\n",
    "fig.show()"
   ]
  },
  {
   "attachments": {},
   "cell_type": "markdown",
   "metadata": {},
   "source": [
    "- Users __who do not subscribe__ visit between 1 and 16 pages. Most of them visit until 6 pages before making the decision to not subscribe.\n",
    "\n",
    "- Users __who subscribe__ consult up to 27 pages and most of them visit at least 7\n",
    " pages before subscribe."
   ]
  },
  {
   "cell_type": "code",
   "execution_count": null,
   "metadata": {},
   "outputs": [],
   "source": [
    "fig = px.histogram(df, x=\"source\", color=\"converted\", \n",
    "                                  title = 'Proportion of sources and the conversion rate',\n",
    "                                  color_discrete_map={'0':'lightcyan',\n",
    "                                                      '1':'royalblue',\n",
    "                                })\n",
    "\n",
    "fig.update_layout(title_x = 0.5, \n",
    "                      margin=dict(l=50,r=50,b=50,t=50,pad=4),\n",
    "                      xaxis_title = '',\n",
    "                      yaxis_title = '',\n",
    "                      template = 'plotly_dark'\n",
    "                      )\n",
    "fig.update_layout({'plot_bgcolor': 'rgba(0, 0, 0, 0)',\n",
    "                    'paper_bgcolor': 'rgba(0, 0, 0, 0)'}\n",
    "                      )  \n",
    "\n",
    "fig.show()"
   ]
  },
  {
   "attachments": {},
   "cell_type": "markdown",
   "metadata": {},
   "source": [
    "- Most of Users visit the website via the __\"Search Engine Optimization\"__.\n",
    "\n",
    "- The ratio between sources and the convertion rate is the same in all three cases."
   ]
  },
  {
   "attachments": {},
   "cell_type": "markdown",
   "metadata": {},
   "source": [
    "### PREPROCESSING"
   ]
  },
  {
   "cell_type": "code",
   "execution_count": null,
   "metadata": {},
   "outputs": [],
   "source": [
    "# Separate target variable Y from features X\n",
    "target_name = 'converted'\n",
    "\n",
    "print(\"Separating labels from features...\")\n",
    "Y = df.loc[:,target_name]\n",
    "X = df.drop(target_name, axis = 1) # Keeping all columns"
   ]
  },
  {
   "cell_type": "code",
   "execution_count": null,
   "metadata": {},
   "outputs": [],
   "source": [
    "from sklearn.model_selection import train_test_split\n",
    "\n",
    "# Divide into train and test sets\n",
    "X_train, X_test, Y_train, Y_test = train_test_split(X, Y, test_size=0.2, random_state=0, stratify= Y)"
   ]
  },
  {
   "cell_type": "code",
   "execution_count": null,
   "metadata": {},
   "outputs": [],
   "source": [
    "from sklearn.pipeline import Pipeline\n",
    "# Pipeline\n",
    "numeric_features = [1, 4] # Names of numeric columns in X_train/X_test\n",
    "numeric_transformer = Pipeline(steps=[\n",
    "    ('imputer', SimpleImputer(strategy='median')), # missing values will be replaced by columns' median\n",
    "    ('scaler', StandardScaler())\n",
    "])"
   ]
  },
  {
   "cell_type": "code",
   "execution_count": null,
   "metadata": {},
   "outputs": [],
   "source": [
    "# Create pipeline for categorical features\n",
    "from sklearn.preprocessing import  OneHotEncoder, StandardScaler, LabelEncoder\n",
    "categorical_features = [0, 2, 3] # Names of categorical columns in X_train/X_test\n",
    "categorical_transformer = Pipeline(\n",
    "    steps=[\n",
    "    ('imputer', SimpleImputer(strategy='most_frequent')), # missing values will be replaced by most frequent value\n",
    "    ('encoder', OneHotEncoder(drop='first')) # first column will be dropped to avoid creating correlations between features\n",
    "    ])"
   ]
  },
  {
   "cell_type": "code",
   "execution_count": null,
   "metadata": {},
   "outputs": [],
   "source": [
    "# set the preprocessor\n",
    "preprocessor = ColumnTransformer(\n",
    "    transformers=[\n",
    "        ('num', numeric_transformer, numeric_features),\n",
    "        ('cat', categorical_transformer, categorical_features)\n",
    "    ])"
   ]
  },
  {
   "cell_type": "code",
   "execution_count": null,
   "metadata": {},
   "outputs": [],
   "source": [
    "# Preprocessings on train set\n",
    "X_train = preprocessor.fit_transform(X_train)\n",
    "print('...Done.')\n",
    "\n",
    "# Preprocessings on test set \n",
    "X_test = preprocessor.transform(X_test)\n",
    "print('...Done.')"
   ]
  },
  {
   "attachments": {},
   "cell_type": "markdown",
   "metadata": {},
   "source": [
    "# MODELS"
   ]
  },
  {
   "attachments": {},
   "cell_type": "markdown",
   "metadata": {},
   "source": [
    "- ### Decision Tree"
   ]
  },
  {
   "cell_type": "code",
   "execution_count": null,
   "metadata": {},
   "outputs": [],
   "source": [
    "# Perform grid search\n",
    "print(\"Grid search...\")\n",
    "decision_tree = DecisionTreeClassifier() # instanciate DecisionTreeClassifier\n",
    "model_dt = BaggingClassifier(decision_tree)\n",
    "# Grid of values to be tested\n",
    "# I left only the best hyperparameters after the first grid search to make calculus faster \n",
    "params = {\n",
    "    'base_estimator__max_depth': [8],\n",
    "    'base_estimator__min_samples_leaf': [5],\n",
    "    'base_estimator__min_samples_split': [4],\n",
    "    'n_estimators': [80]\n",
    "}\n",
    "gridsearch = GridSearchCV(model_dt, param_grid = params, cv = 3) # cv : the number of folds to be used for CV\n",
    "gridsearch.fit(X_train, Y_train) # we fit on X_train and Y_train\n",
    "print(\"...Done.\")\n",
    "print(\"Best hyperparameters : \", gridsearch.best_params_)\n",
    "print(\"Best validation accuracy : \", gridsearch.best_score_)\n",
    "# make predictions on X_train and X_test\n",
    "grid_train_pred = gridsearch.predict(X_train) \n",
    "grid_test_pred = gridsearch.predict(X_test)\n",
    "print(\"f1-score on train set : \", f1_score(Y_train, grid_train_pred))\n",
    "print(\"f1-score on test set : \", f1_score(Y_test, grid_test_pred))"
   ]
  },
  {
   "cell_type": "code",
   "execution_count": null,
   "metadata": {},
   "outputs": [],
   "source": [
    "# define variables with predictions on train and test set\n",
    "grid_train_pred = gridsearch.predict(X_train)\n",
    "grid_test_pred = gridsearch.predict(X_test)\n",
    "\n",
    "# define variables with f1 score\n",
    "score_test = f1_score(Y_test, grid_test_pred)\n",
    "score_train = f1_score(Y_train, grid_train_pred)\n",
    "\n",
    "# create a dataset with ours scores\n",
    "data = [{'model': 'bagging_df', 'f1_score' : score_test, 'set': 'test'},\n",
    "        {'model': 'bagging_df', 'f1_score' : score_train, 'set': 'train'}\n",
    "]\n",
    "df_score = pd.DataFrame(data)\n",
    "df_score"
   ]
  },
  {
   "attachments": {},
   "cell_type": "markdown",
   "metadata": {},
   "source": [
    "- ### Adaboost Logistic Regression"
   ]
  },
  {
   "cell_type": "code",
   "execution_count": null,
   "metadata": {},
   "outputs": [],
   "source": [
    "print(\"Grid search...\")\n",
    "logistic_regression = LogisticRegression(max_iter = 1000) # max_iter changed because of convergence warning\n",
    "model2 = AdaBoostClassifier(logistic_regression)\n",
    "\n",
    "# Grid of values to be tested\n",
    "params = {\n",
    "    'base_estimator__C': [5.0], # base_estimator__ prefix because C is a parameter from LogisticRegression! \n",
    "    'n_estimators': [60] # n_estimators is a hyperparameter of the ensemble method\n",
    "}\n",
    "gridsearch3 = GridSearchCV(model2, param_grid = params, cv = 3) # cv : the number of folds to be used for CV\n",
    "gridsearch3.fit(X_train, Y_train)\n",
    "print(\"...Done.\")\n",
    "print(\"Best hyperparameters : \", gridsearch3.best_params_)\n",
    "print(\"Best validation accuracy : \", gridsearch3.best_score_)\n",
    "print()\n",
    "grid_train_pred3 = gridsearch3.predict(X_train)\n",
    "grid_test_pred3 = gridsearch3.predict(X_test)\n",
    "print(\"f1-score on train set : \", f1_score(Y_train, grid_train_pred3))\n",
    "print(\"f1-score on test set : \", f1_score(Y_test, grid_test_pred3))"
   ]
  },
  {
   "cell_type": "code",
   "execution_count": null,
   "metadata": {},
   "outputs": [],
   "source": [
    "# add Adabost Logistic Regression scores into the scores dataset\n",
    "df_score = df_score.append({'model': 'adaboost_lr', 'f1_score': f1_score(Y_test, grid_test_pred3), 'set': 'test'}, ignore_index=True)\n",
    "df_score = df_score.append({'model': 'adaboost_lr', 'f1_score': f1_score(Y_train, grid_train_pred3), 'set': 'train'}, ignore_index=True)\n",
    "df_score"
   ]
  },
  {
   "attachments": {},
   "cell_type": "markdown",
   "metadata": {},
   "source": [
    "- ### Adaboost Decision Tree"
   ]
  },
  {
   "cell_type": "code",
   "execution_count": null,
   "metadata": {},
   "outputs": [],
   "source": [
    "print(\"Grid search...\")\n",
    "decision_tree = DecisionTreeClassifier()\n",
    "model3 = AdaBoostClassifier(decision_tree)\n",
    "\n",
    "# Grid of values to be tested\n",
    "params = {\n",
    "    'base_estimator__max_depth': [8],\n",
    "    'base_estimator__min_samples_leaf': [6],\n",
    "    'base_estimator__min_samples_split': [4],\n",
    "    'n_estimators': [60]\n",
    "}\n",
    "print(params)\n",
    "gridsearch4 = GridSearchCV(model3, param_grid = params, cv = 3) # cv : the number of folds to be used for CV\n",
    "gridsearch4.fit(X_train, Y_train)\n",
    "print(\"...Done.\")\n",
    "print(\"Best hyperparameters : \", gridsearch4.best_params_)\n",
    "print(\"Best validation accuracy : \", gridsearch4.best_score_)\n",
    "\n",
    "grid_train_pred4 = gridsearch4.predict(X_train)\n",
    "grid_test_pred4 = gridsearch4.predict(X_test)\n",
    "print(\"f1-score on train set : \", f1_score(Y_train, grid_train_pred4))\n",
    "print(\"f1-score on test set : \", f1_score(Y_test, grid_test_pred4))"
   ]
  },
  {
   "cell_type": "code",
   "execution_count": null,
   "metadata": {},
   "outputs": [],
   "source": [
    "# add Adabost Decision Tree scores into the scores dataset\n",
    "df_score = df_score.append({'model': 'adaboost_dt', 'f1_score': f1_score(Y_test, grid_test_pred4), 'set': 'test'}, ignore_index=True)\n",
    "df_score = df_score.append({'model': 'adaboost_dt', 'f1_score': f1_score(Y_train, grid_train_pred4), 'set': 'train'}, ignore_index=True)\n",
    "df_score"
   ]
  },
  {
   "attachments": {},
   "cell_type": "markdown",
   "metadata": {},
   "source": [
    "- ### XGBoost"
   ]
  },
  {
   "cell_type": "code",
   "execution_count": null,
   "metadata": {},
   "outputs": [],
   "source": [
    "from xgboost import XGBClassifier\n",
    "\n",
    "# Perform grid search\n",
    "print(\"Grid search...\")\n",
    "xgboost = XGBClassifier()\n",
    "\n",
    "# Grid of values to be tested\n",
    "params = {\n",
    "    'max_depth': [8], # exactly the same role as in scikit-learn\n",
    "    'min_child_weight': [6], # effect is more or less similar to min_samples_leaf and min_samples_split\n",
    "    'n_estimators': [60] # exactly the same role as in scikit-learn\n",
    "}\n",
    "print(params)\n",
    "gridsearch6 = GridSearchCV(xgboost, param_grid = params, cv = 3) # cv : the number of folds to be used for CV\n",
    "gridsearch6.fit(X_train, Y_train)\n",
    "print(\"...Done.\")\n",
    "print(\"Best hyperparameters : \", gridsearch6.best_params_)\n",
    "print(\"Best validation accuracy : \", gridsearch6.best_score_)\n",
    "\n",
    "grid_train_pred6 = gridsearch6.predict(X_train)\n",
    "grid_test_pred6 = gridsearch6.predict(X_test)\n",
    "print(\"f1-score on train set : \", f1_score(Y_train, grid_train_pred6))\n",
    "print(\"f1-score on test set : \", f1_score(Y_test, grid_test_pred6))"
   ]
  },
  {
   "cell_type": "code",
   "execution_count": null,
   "metadata": {},
   "outputs": [],
   "source": [
    "# add XGBoost scores into the scores dataset\n",
    "df_score = df_score.append({'model': 'xgboost', 'f1_score': f1_score(Y_test, grid_test_pred6), 'set': 'test'}, ignore_index=True)\n",
    "df_score = df_score.append({'model': 'xgboost', 'f1_score': f1_score(Y_train, grid_train_pred6), 'set': 'train'}, ignore_index=True)\n",
    "df_score"
   ]
  },
  {
   "attachments": {},
   "cell_type": "markdown",
   "metadata": {},
   "source": [
    "- ### SGDClassifier"
   ]
  },
  {
   "cell_type": "code",
   "execution_count": null,
   "metadata": {},
   "outputs": [],
   "source": [
    "from sklearn.linear_model import SGDClassifier\n",
    "\n",
    "\n",
    "# Perform grid search\n",
    "print(\"Grid search...\")\n",
    "classifier = SGDClassifier()\n",
    "\n",
    "# Grid of values to be tested\n",
    "params = {\n",
    "    'alpha' : [0.000000001], # Constant that multiplies the regularization term\n",
    "    'learning_rate' : ['optimal'], # t0 is chosen by a heuristic proposed by Leon Bottou\n",
    "    'average' : [True], # computes the averaged SGD weights across all updates and stores the result in the coef_ attribute\n",
    "    'penalty' : ['l2'], # It's the standard regularizer for linear SVM models\n",
    "    'epsilon' : [1.5], # Epsilon in the epsilon-insensitive loss functions\n",
    "    'max_iter' : [100000], # The maximum number of passes over the training data (epochs)\n",
    "    'early_stopping' : [True], # It terminates training when validation score is not improving\n",
    "    'random_state': [2, 4, 6, 8, 10],\n",
    "    'verbose' : [1, 0.5, 0] # The verbosity level \n",
    "}\n",
    "\n",
    "gridsearch7 = GridSearchCV(classifier, param_grid = params, cv = 3) # cv : the number of folds to be used for CV\n",
    "gridsearch7.fit(X_train, Y_train)\n",
    "print(\"...Done.\")\n",
    "print(\"Best hyperparameters : \", gridsearch7.best_params_)\n",
    "print(\"Best validation accuracy : \", gridsearch7.best_score_)\n",
    "\n",
    "grid_train_pred7 = gridsearch7.predict(X_train)\n",
    "grid_test_pred7 = gridsearch7.predict(X_test)\n",
    "print(\"f1-score on train set : \", f1_score(Y_train, grid_train_pred7))\n",
    "print(\"f1-score on test set : \", f1_score(Y_test, grid_test_pred7))"
   ]
  },
  {
   "cell_type": "code",
   "execution_count": null,
   "metadata": {},
   "outputs": [],
   "source": [
    "# add SGDC scores into the scores dataset\n",
    "df_score = df_score.append({'model': 'SGDClassifier', 'f1_score': f1_score(Y_test, grid_test_pred7), 'set': 'test'}, ignore_index=True)\n",
    "df_score = df_score.append({'model': 'SGDClassifier', 'f1_score': f1_score(Y_train, grid_train_pred7), 'set': 'train'}, ignore_index=True)\n",
    "df_score"
   ]
  },
  {
   "cell_type": "code",
   "execution_count": null,
   "metadata": {},
   "outputs": [],
   "source": [
    "# Let's filter our scores dataset to pick the highest score on test set\n",
    "df_score = df_score[df_score['set'] == 'test']\n",
    "df_score = df_score.sort_values(by=['f1_score', 'set'], ascending= False)\n",
    "df_score"
   ]
  },
  {
   "attachments": {},
   "cell_type": "markdown",
   "metadata": {},
   "source": [
    "- __SDG Classifier__ is the model with the highest score on test set. We'll pick it to make ours predictions."
   ]
  },
  {
   "cell_type": "markdown",
   "metadata": {},
   "source": [
    "# Make predictions"
   ]
  },
  {
   "cell_type": "code",
   "execution_count": null,
   "metadata": {},
   "outputs": [],
   "source": [
    "# Concatenate our train and test set to train your best classifier on all data with labels\n",
    "X = np.append(X_train,X_test,axis=0)\n",
    "Y = np.append(Y_train,Y_test)\n",
    "\n",
    "pred = gridsearch7.fit(X,Y)"
   ]
  },
  {
   "cell_type": "code",
   "execution_count": null,
   "metadata": {},
   "outputs": [],
   "source": [
    "# Read data without labels\n",
    "data_without_labels = pd.read_csv('conversion_data_test.csv')\n",
    "\n",
    "# Warning : check consistency of features_list (must be the same than the features \n",
    "# used by your best classifier)\n",
    "features_list = ['country','age','new_user','source','total_pages_visited']\n",
    "X_without_labels = data_without_labels.loc[:, features_list]\n",
    "\n",
    "# Convert pandas DataFrames to numpy arrays before using scikit-learn\n",
    "X_without_labels = X_without_labels.values"
   ]
  },
  {
   "cell_type": "code",
   "execution_count": null,
   "metadata": {},
   "outputs": [],
   "source": [
    "# put the same preprocessing as for test set \n",
    "print(\"Encoding categorical features and standardizing numerical features...\")\n",
    "# transform X_without_labels features\n",
    "X_without_labels = preprocessor.transform(X_without_labels)\n",
    "\n",
    "data = {\n",
    "    'converted': gridsearch.predict(X_without_labels)\n",
    "}\n",
    "# create a new dataset with predictions\n",
    "Y_predictions = pd.DataFrame(columns=['converted'],data=data)\n",
    "# save predictions in a new csv file\n",
    "Y_predictions.to_csv('conversion_data_test_final_predictions_Nico.csv', index=False)"
   ]
  },
  {
   "cell_type": "code",
   "execution_count": null,
   "metadata": {},
   "outputs": [],
   "source": []
  }
 ],
 "metadata": {
  "kernelspec": {
   "display_name": "base",
   "language": "python",
   "name": "python3"
  },
  "language_info": {
   "codemirror_mode": {
    "name": "ipython",
    "version": 3
   },
   "file_extension": ".py",
   "mimetype": "text/x-python",
   "name": "python",
   "nbconvert_exporter": "python",
   "pygments_lexer": "ipython3",
   "version": "3.9.13 (main, Aug 25 2022, 18:29:29) \n[Clang 12.0.0 ]"
  },
  "orig_nbformat": 4,
  "vscode": {
   "interpreter": {
    "hash": "40d3a090f54c6569ab1632332b64b2c03c39dcf918b08424e98f38b5ae0af88f"
   }
  }
 },
 "nbformat": 4,
 "nbformat_minor": 2
}
