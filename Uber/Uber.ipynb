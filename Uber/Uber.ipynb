{
 "cells": [
  {
   "attachments": {},
   "cell_type": "markdown",
   "metadata": {},
   "source": [
    "# UBER Pickups  📇"
   ]
  },
  {
   "attachments": {},
   "cell_type": "markdown",
   "metadata": {},
   "source": [
    "Uber already has data about pickups in major cities. The objective is to create algorithms that will determine where are the hot-zones that drivers should be in. \n",
    "\n",
    "Uber wants to have hot-zones per hour and per day of week, you should first start small. Pick one day at a given hour and then start to generalize your approach.\n",
    "\n",
    "Purposes:\n",
    "\n",
    "- Create an algorithm to find hot zones\n",
    "- Visualize results on a nice dashboard\n",
    "\n",
    "##### Summary :\n",
    "\n",
    "- EDA\n",
    "\n",
    "- K-Means (Elbow + Silhouette Methods)\n",
    "\n",
    "- DBSCAN\n",
    "\n",
    "- Conclusion\n"
   ]
  },
  {
   "cell_type": "code",
   "execution_count": 2,
   "metadata": {},
   "outputs": [],
   "source": [
    "import pandas as pd\n",
    "\n",
    "from sklearn.pipeline import Pipeline\n",
    "from sklearn.impute import SimpleImputer\n",
    "from sklearn.preprocessing import  OneHotEncoder, StandardScaler\n",
    "from sklearn.compose import ColumnTransformer\n",
    "from sklearn.cluster import KMeans, DBSCAN\n",
    "from sklearn.metrics import  silhouette_score\n",
    "\n",
    "import warnings\n",
    "warnings.filterwarnings(\"ignore\", category=DeprecationWarning) \n",
    "\n",
    "import plotly.express as px\n",
    "import plotly.io as pio"
   ]
  },
  {
   "cell_type": "code",
   "execution_count": 3,
   "metadata": {},
   "outputs": [
    {
     "data": {
      "text/html": [
       "<div>\n",
       "<style scoped>\n",
       "    .dataframe tbody tr th:only-of-type {\n",
       "        vertical-align: middle;\n",
       "    }\n",
       "\n",
       "    .dataframe tbody tr th {\n",
       "        vertical-align: top;\n",
       "    }\n",
       "\n",
       "    .dataframe thead th {\n",
       "        text-align: right;\n",
       "    }\n",
       "</style>\n",
       "<table border=\"1\" class=\"dataframe\">\n",
       "  <thead>\n",
       "    <tr style=\"text-align: right;\">\n",
       "      <th></th>\n",
       "      <th>Date/Time</th>\n",
       "      <th>Lat</th>\n",
       "      <th>Lon</th>\n",
       "      <th>Base</th>\n",
       "    </tr>\n",
       "  </thead>\n",
       "  <tbody>\n",
       "    <tr>\n",
       "      <th>0</th>\n",
       "      <td>4/1/2014 0:11:00</td>\n",
       "      <td>40.7690</td>\n",
       "      <td>-73.9549</td>\n",
       "      <td>B02512</td>\n",
       "    </tr>\n",
       "    <tr>\n",
       "      <th>1</th>\n",
       "      <td>4/1/2014 0:17:00</td>\n",
       "      <td>40.7267</td>\n",
       "      <td>-74.0345</td>\n",
       "      <td>B02512</td>\n",
       "    </tr>\n",
       "    <tr>\n",
       "      <th>2</th>\n",
       "      <td>4/1/2014 0:21:00</td>\n",
       "      <td>40.7316</td>\n",
       "      <td>-73.9873</td>\n",
       "      <td>B02512</td>\n",
       "    </tr>\n",
       "    <tr>\n",
       "      <th>3</th>\n",
       "      <td>4/1/2014 0:28:00</td>\n",
       "      <td>40.7588</td>\n",
       "      <td>-73.9776</td>\n",
       "      <td>B02512</td>\n",
       "    </tr>\n",
       "    <tr>\n",
       "      <th>4</th>\n",
       "      <td>4/1/2014 0:33:00</td>\n",
       "      <td>40.7594</td>\n",
       "      <td>-73.9722</td>\n",
       "      <td>B02512</td>\n",
       "    </tr>\n",
       "  </tbody>\n",
       "</table>\n",
       "</div>"
      ],
      "text/plain": [
       "          Date/Time      Lat      Lon    Base\n",
       "0  4/1/2014 0:11:00  40.7690 -73.9549  B02512\n",
       "1  4/1/2014 0:17:00  40.7267 -74.0345  B02512\n",
       "2  4/1/2014 0:21:00  40.7316 -73.9873  B02512\n",
       "3  4/1/2014 0:28:00  40.7588 -73.9776  B02512\n",
       "4  4/1/2014 0:33:00  40.7594 -73.9722  B02512"
      ]
     },
     "execution_count": 3,
     "metadata": {},
     "output_type": "execute_result"
    }
   ],
   "source": [
    "#read the Dataset\n",
    "df = pd.read_csv('uber-raw-data-apr14.csv')\n",
    "df.head()"
   ]
  },
  {
   "attachments": {},
   "cell_type": "markdown",
   "metadata": {},
   "source": [
    "- ### EDA"
   ]
  },
  {
   "cell_type": "code",
   "execution_count": 4,
   "metadata": {},
   "outputs": [
    {
     "name": "stdout",
     "output_type": "stream",
     "text": [
      "Number of rows : 564516\n",
      "\n",
      "Basic Stats: \n"
     ]
    },
    {
     "data": {
      "text/html": [
       "<div>\n",
       "<style scoped>\n",
       "    .dataframe tbody tr th:only-of-type {\n",
       "        vertical-align: middle;\n",
       "    }\n",
       "\n",
       "    .dataframe tbody tr th {\n",
       "        vertical-align: top;\n",
       "    }\n",
       "\n",
       "    .dataframe thead th {\n",
       "        text-align: right;\n",
       "    }\n",
       "</style>\n",
       "<table border=\"1\" class=\"dataframe\">\n",
       "  <thead>\n",
       "    <tr style=\"text-align: right;\">\n",
       "      <th></th>\n",
       "      <th>Date/Time</th>\n",
       "      <th>Lat</th>\n",
       "      <th>Lon</th>\n",
       "      <th>Base</th>\n",
       "    </tr>\n",
       "  </thead>\n",
       "  <tbody>\n",
       "    <tr>\n",
       "      <th>count</th>\n",
       "      <td>564516</td>\n",
       "      <td>564516.000000</td>\n",
       "      <td>564516.000000</td>\n",
       "      <td>564516</td>\n",
       "    </tr>\n",
       "    <tr>\n",
       "      <th>unique</th>\n",
       "      <td>41999</td>\n",
       "      <td>NaN</td>\n",
       "      <td>NaN</td>\n",
       "      <td>5</td>\n",
       "    </tr>\n",
       "    <tr>\n",
       "      <th>top</th>\n",
       "      <td>4/7/2014 20:21:00</td>\n",
       "      <td>NaN</td>\n",
       "      <td>NaN</td>\n",
       "      <td>B02682</td>\n",
       "    </tr>\n",
       "    <tr>\n",
       "      <th>freq</th>\n",
       "      <td>97</td>\n",
       "      <td>NaN</td>\n",
       "      <td>NaN</td>\n",
       "      <td>227808</td>\n",
       "    </tr>\n",
       "    <tr>\n",
       "      <th>mean</th>\n",
       "      <td>NaN</td>\n",
       "      <td>40.740005</td>\n",
       "      <td>-73.976817</td>\n",
       "      <td>NaN</td>\n",
       "    </tr>\n",
       "    <tr>\n",
       "      <th>std</th>\n",
       "      <td>NaN</td>\n",
       "      <td>0.036083</td>\n",
       "      <td>0.050426</td>\n",
       "      <td>NaN</td>\n",
       "    </tr>\n",
       "    <tr>\n",
       "      <th>min</th>\n",
       "      <td>NaN</td>\n",
       "      <td>40.072900</td>\n",
       "      <td>-74.773300</td>\n",
       "      <td>NaN</td>\n",
       "    </tr>\n",
       "    <tr>\n",
       "      <th>25%</th>\n",
       "      <td>NaN</td>\n",
       "      <td>40.722500</td>\n",
       "      <td>-73.997700</td>\n",
       "      <td>NaN</td>\n",
       "    </tr>\n",
       "    <tr>\n",
       "      <th>50%</th>\n",
       "      <td>NaN</td>\n",
       "      <td>40.742500</td>\n",
       "      <td>-73.984800</td>\n",
       "      <td>NaN</td>\n",
       "    </tr>\n",
       "    <tr>\n",
       "      <th>75%</th>\n",
       "      <td>NaN</td>\n",
       "      <td>40.760700</td>\n",
       "      <td>-73.970000</td>\n",
       "      <td>NaN</td>\n",
       "    </tr>\n",
       "    <tr>\n",
       "      <th>max</th>\n",
       "      <td>NaN</td>\n",
       "      <td>42.116600</td>\n",
       "      <td>-72.066600</td>\n",
       "      <td>NaN</td>\n",
       "    </tr>\n",
       "  </tbody>\n",
       "</table>\n",
       "</div>"
      ],
      "text/plain": [
       "                Date/Time            Lat            Lon    Base\n",
       "count              564516  564516.000000  564516.000000  564516\n",
       "unique              41999            NaN            NaN       5\n",
       "top     4/7/2014 20:21:00            NaN            NaN  B02682\n",
       "freq                   97            NaN            NaN  227808\n",
       "mean                  NaN      40.740005     -73.976817     NaN\n",
       "std                   NaN       0.036083       0.050426     NaN\n",
       "min                   NaN      40.072900     -74.773300     NaN\n",
       "25%                   NaN      40.722500     -73.997700     NaN\n",
       "50%                   NaN      40.742500     -73.984800     NaN\n",
       "75%                   NaN      40.760700     -73.970000     NaN\n",
       "max                   NaN      42.116600     -72.066600     NaN"
      ]
     },
     "metadata": {},
     "output_type": "display_data"
    },
    {
     "name": "stdout",
     "output_type": "stream",
     "text": [
      "\n",
      "Percentage of missing values : \n"
     ]
    },
    {
     "data": {
      "text/plain": [
       "Date/Time    0.0\n",
       "Lat          0.0\n",
       "Lon          0.0\n",
       "Base         0.0\n",
       "dtype: float64"
      ]
     },
     "metadata": {},
     "output_type": "display_data"
    }
   ],
   "source": [
    "# Basic satistics\n",
    "print(\"Number of rows : {}\".format(df.shape[0]))\n",
    "print()\n",
    "\n",
    "\n",
    "print(\"Basic Stats: \")\n",
    "data_desc = df.describe(include='all')\n",
    "display(data_desc)\n",
    "print()\n",
    "\n",
    "print(\"Percentage of missing values : \")\n",
    "display(100*df.isnull().sum()/df.shape[0])"
   ]
  },
  {
   "cell_type": "code",
   "execution_count": 5,
   "metadata": {},
   "outputs": [
    {
     "data": {
      "text/html": [
       "<div>\n",
       "<style scoped>\n",
       "    .dataframe tbody tr th:only-of-type {\n",
       "        vertical-align: middle;\n",
       "    }\n",
       "\n",
       "    .dataframe tbody tr th {\n",
       "        vertical-align: top;\n",
       "    }\n",
       "\n",
       "    .dataframe thead th {\n",
       "        text-align: right;\n",
       "    }\n",
       "</style>\n",
       "<table border=\"1\" class=\"dataframe\">\n",
       "  <thead>\n",
       "    <tr style=\"text-align: right;\">\n",
       "      <th></th>\n",
       "      <th>Date/Time</th>\n",
       "      <th>Lat</th>\n",
       "      <th>Lon</th>\n",
       "      <th>Base</th>\n",
       "    </tr>\n",
       "  </thead>\n",
       "  <tbody>\n",
       "    <tr>\n",
       "      <th>0</th>\n",
       "      <td>4/1/2014 0:11:00</td>\n",
       "      <td>40.7690</td>\n",
       "      <td>-73.9549</td>\n",
       "      <td>B02512</td>\n",
       "    </tr>\n",
       "    <tr>\n",
       "      <th>1</th>\n",
       "      <td>4/1/2014 0:17:00</td>\n",
       "      <td>40.7267</td>\n",
       "      <td>-74.0345</td>\n",
       "      <td>B02512</td>\n",
       "    </tr>\n",
       "    <tr>\n",
       "      <th>2</th>\n",
       "      <td>4/1/2014 0:21:00</td>\n",
       "      <td>40.7316</td>\n",
       "      <td>-73.9873</td>\n",
       "      <td>B02512</td>\n",
       "    </tr>\n",
       "    <tr>\n",
       "      <th>3</th>\n",
       "      <td>4/1/2014 0:28:00</td>\n",
       "      <td>40.7588</td>\n",
       "      <td>-73.9776</td>\n",
       "      <td>B02512</td>\n",
       "    </tr>\n",
       "    <tr>\n",
       "      <th>4</th>\n",
       "      <td>4/1/2014 0:33:00</td>\n",
       "      <td>40.7594</td>\n",
       "      <td>-73.9722</td>\n",
       "      <td>B02512</td>\n",
       "    </tr>\n",
       "  </tbody>\n",
       "</table>\n",
       "</div>"
      ],
      "text/plain": [
       "          Date/Time      Lat      Lon    Base\n",
       "0  4/1/2014 0:11:00  40.7690 -73.9549  B02512\n",
       "1  4/1/2014 0:17:00  40.7267 -74.0345  B02512\n",
       "2  4/1/2014 0:21:00  40.7316 -73.9873  B02512\n",
       "3  4/1/2014 0:28:00  40.7588 -73.9776  B02512\n",
       "4  4/1/2014 0:33:00  40.7594 -73.9722  B02512"
      ]
     },
     "execution_count": 5,
     "metadata": {},
     "output_type": "execute_result"
    }
   ],
   "source": [
    "# show the dataset\n",
    "df.head()"
   ]
  },
  {
   "cell_type": "code",
   "execution_count": 6,
   "metadata": {},
   "outputs": [
    {
     "data": {
      "text/html": [
       "<div>\n",
       "<style scoped>\n",
       "    .dataframe tbody tr th:only-of-type {\n",
       "        vertical-align: middle;\n",
       "    }\n",
       "\n",
       "    .dataframe tbody tr th {\n",
       "        vertical-align: top;\n",
       "    }\n",
       "\n",
       "    .dataframe thead th {\n",
       "        text-align: right;\n",
       "    }\n",
       "</style>\n",
       "<table border=\"1\" class=\"dataframe\">\n",
       "  <thead>\n",
       "    <tr style=\"text-align: right;\">\n",
       "      <th></th>\n",
       "      <th>Lat</th>\n",
       "      <th>Lon</th>\n",
       "      <th>Base</th>\n",
       "      <th>Hour</th>\n",
       "      <th>Time</th>\n",
       "      <th>Day</th>\n",
       "      <th>DayOfWeek</th>\n",
       "      <th>DayName</th>\n",
       "      <th>Date</th>\n",
       "    </tr>\n",
       "  </thead>\n",
       "  <tbody>\n",
       "    <tr>\n",
       "      <th>0</th>\n",
       "      <td>40.7690</td>\n",
       "      <td>-73.9549</td>\n",
       "      <td>B02512</td>\n",
       "      <td>0</td>\n",
       "      <td>00:11:00</td>\n",
       "      <td>1</td>\n",
       "      <td>1</td>\n",
       "      <td>Tuesday</td>\n",
       "      <td>2014-04-01</td>\n",
       "    </tr>\n",
       "    <tr>\n",
       "      <th>1</th>\n",
       "      <td>40.7267</td>\n",
       "      <td>-74.0345</td>\n",
       "      <td>B02512</td>\n",
       "      <td>0</td>\n",
       "      <td>00:17:00</td>\n",
       "      <td>1</td>\n",
       "      <td>1</td>\n",
       "      <td>Tuesday</td>\n",
       "      <td>2014-04-01</td>\n",
       "    </tr>\n",
       "    <tr>\n",
       "      <th>2</th>\n",
       "      <td>40.7316</td>\n",
       "      <td>-73.9873</td>\n",
       "      <td>B02512</td>\n",
       "      <td>0</td>\n",
       "      <td>00:21:00</td>\n",
       "      <td>1</td>\n",
       "      <td>1</td>\n",
       "      <td>Tuesday</td>\n",
       "      <td>2014-04-01</td>\n",
       "    </tr>\n",
       "    <tr>\n",
       "      <th>3</th>\n",
       "      <td>40.7588</td>\n",
       "      <td>-73.9776</td>\n",
       "      <td>B02512</td>\n",
       "      <td>0</td>\n",
       "      <td>00:28:00</td>\n",
       "      <td>1</td>\n",
       "      <td>1</td>\n",
       "      <td>Tuesday</td>\n",
       "      <td>2014-04-01</td>\n",
       "    </tr>\n",
       "    <tr>\n",
       "      <th>4</th>\n",
       "      <td>40.7594</td>\n",
       "      <td>-73.9722</td>\n",
       "      <td>B02512</td>\n",
       "      <td>0</td>\n",
       "      <td>00:33:00</td>\n",
       "      <td>1</td>\n",
       "      <td>1</td>\n",
       "      <td>Tuesday</td>\n",
       "      <td>2014-04-01</td>\n",
       "    </tr>\n",
       "  </tbody>\n",
       "</table>\n",
       "</div>"
      ],
      "text/plain": [
       "       Lat      Lon    Base  Hour      Time  Day  DayOfWeek  DayName  \\\n",
       "0  40.7690 -73.9549  B02512     0  00:11:00    1          1  Tuesday   \n",
       "1  40.7267 -74.0345  B02512     0  00:17:00    1          1  Tuesday   \n",
       "2  40.7316 -73.9873  B02512     0  00:21:00    1          1  Tuesday   \n",
       "3  40.7588 -73.9776  B02512     0  00:28:00    1          1  Tuesday   \n",
       "4  40.7594 -73.9722  B02512     0  00:33:00    1          1  Tuesday   \n",
       "\n",
       "         Date  \n",
       "0  2014-04-01  \n",
       "1  2014-04-01  \n",
       "2  2014-04-01  \n",
       "3  2014-04-01  \n",
       "4  2014-04-01  "
      ]
     },
     "execution_count": 6,
     "metadata": {},
     "output_type": "execute_result"
    }
   ],
   "source": [
    "# import datetime to manage the time\n",
    "import datetime\n",
    "\n",
    "df['Date/Time'] = pd.to_datetime(df['Date/Time']) # transform Date/Time column into a timestamp\n",
    "df['Hour'] = df['Date/Time'].dt.hour # get hours\n",
    "df['Time'] = df['Date/Time'].dt.time # get time\n",
    "df['Day'] = df['Date/Time'].dt.day # get the day\n",
    "df['DayOfWeek'] = df['Date/Time'].dt.day_of_week # get the day of the week\n",
    "df['DayName'] = df['Date/Time'].dt.day_name() # get the day name\n",
    "df['Date'] = df['Date/Time'].dt.date # get the date\n",
    "\n",
    "df = df.drop('Date/Time', axis=1) # drop Date/Time\n",
    "\n",
    "df.head()"
   ]
  },
  {
   "cell_type": "code",
   "execution_count": null,
   "metadata": {},
   "outputs": [],
   "source": [
    "fig = px.histogram(df, x='Hour',\n",
    "                      title = 'Hours with the higher number of pickups',\n",
    "                      barmode ='group',\n",
    "                      width= 1000,\n",
    "                      height = 600\n",
    "                      ) \n",
    "fig.update_layout(title_x = 0.5, \n",
    "                      margin=dict(l=50,r=50,b=50,t=50,pad=4),\n",
    "                      xaxis_title = '',\n",
    "                      yaxis_title = '',\n",
    "                      template = 'plotly_dark'\n",
    "                      )\n",
    "fig.update_layout({'plot_bgcolor': 'rgba(0, 0, 0, 0)',\n",
    "                      'paper_bgcolor': 'rgba(0, 0, 0, 0)'}\n",
    "                      )       \n",
    "fig.show()"
   ]
  },
  {
   "attachments": {},
   "cell_type": "markdown",
   "metadata": {},
   "source": [
    "In April 2014, we can observe that :\n",
    "\n",
    "- Requests increase around 5 am and then stagning from 9 to 12 am\n",
    "- The time slot with the most requests from users is between 15 pm and 22 pm"
   ]
  },
  {
   "cell_type": "code",
   "execution_count": null,
   "metadata": {},
   "outputs": [],
   "source": [
    "fig = px.histogram(df, x=df.DayName,\n",
    "                      title = 'Day with the higher number of pickups',\n",
    "                      barmode ='group',\n",
    "                      width= 700,\n",
    "                      height = 400\n",
    "                      ) \n",
    "fig.update_layout(title_x = 0.5, \n",
    "                      margin=dict(l=50,r=50,b=50,t=50,pad=10),\n",
    "                      xaxis_title = '',\n",
    "                      yaxis_title = '',\n",
    "                      template = 'plotly_dark'\n",
    "                      )\n",
    "fig.update_layout({'plot_bgcolor': 'rgba(0, 0, 0, 0)',\n",
    "                      'paper_bgcolor': 'rgba(0, 0, 0, 0)'}\n",
    "                      )       \n",
    "fig.show()"
   ]
  },
  {
   "attachments": {},
   "cell_type": "markdown",
   "metadata": {},
   "source": [
    "The day of the week with the highest number of requests is Wednesday"
   ]
  },
  {
   "cell_type": "code",
   "execution_count": 9,
   "metadata": {},
   "outputs": [],
   "source": [
    "# let's check which day of the month has the highest number of pickups on wednesday\n",
    "df_wednesday = df[df['DayName'] == 'Wednesday']\n",
    "wednesday = dict(df_wednesday.Day.groupby(df_wednesday.Day).count().sort_values(ascending=False))"
   ]
  },
  {
   "cell_type": "code",
   "execution_count": null,
   "metadata": {},
   "outputs": [],
   "source": [
    "fig = px.histogram(df, x=df.Base,\n",
    "                      title = 'Base with the highest number of pickups',\n",
    "                      barmode ='group',\n",
    "                      width= 700,\n",
    "                      height = 400\n",
    "                      ) \n",
    "fig.update_layout(title_x = 0.5, \n",
    "                      margin=dict(l=50,r=50,b=50,t=50,pad=10),\n",
    "                      xaxis_title = '',\n",
    "                      yaxis_title = '',\n",
    "                      template = 'plotly_dark'\n",
    "                      )\n",
    "fig.update_layout({'plot_bgcolor': 'rgba(0, 0, 0, 0)',\n",
    "                      'paper_bgcolor': 'rgba(0, 0, 0, 0)'}\n",
    "                      )       \n",
    "fig.show()"
   ]
  },
  {
   "attachments": {},
   "cell_type": "markdown",
   "metadata": {},
   "source": [
    "- B02682 is the base with the highest number of pickups"
   ]
  },
  {
   "cell_type": "code",
   "execution_count": null,
   "metadata": {},
   "outputs": [],
   "source": [
    "fig = px.pie(wednesday.items(), values= wednesday.values(), names= wednesday.keys(), color= wednesday,\n",
    "            title= \"Proportion of pickups on Wednesday\",\n",
    "             color_discrete_map={'mobile':'lightcyan',\n",
    "                                 'connect':'royalblue',\n",
    "                                })\n",
    "fig.update_traces(textposition = 'outside', textfont_size = 15)             \n",
    "fig.update_layout(title_x = 0.5, \n",
    "                    margin=dict(l=50,r=50,b=50,t=50,pad=4), \n",
    "                    template = 'plotly_dark'\n",
    "                    )   \n",
    "fig.show()"
   ]
  },
  {
   "attachments": {},
   "cell_type": "markdown",
   "metadata": {},
   "source": [
    "On April 30 we have the highest number of requests.\n",
    "\n",
    "In order to have an optimal amount of data, we will keep only 30th april 2014"
   ]
  },
  {
   "cell_type": "code",
   "execution_count": 12,
   "metadata": {},
   "outputs": [
    {
     "data": {
      "text/plain": [
       "(36251, 9)"
      ]
     },
     "execution_count": 12,
     "metadata": {},
     "output_type": "execute_result"
    }
   ],
   "source": [
    "# select data on April 30\n",
    "data = df[df['Day']==30]\n",
    "data.shape"
   ]
  },
  {
   "attachments": {},
   "cell_type": "markdown",
   "metadata": {},
   "source": [
    "Now, we will display the hours with the highest number of pickups in our final dataset"
   ]
  },
  {
   "cell_type": "code",
   "execution_count": null,
   "metadata": {},
   "outputs": [],
   "source": [
    "fig = px.histogram(data, x='Hour',\n",
    "                      title = 'Hours with the highest number of pickups',\n",
    "                      barmode ='group',\n",
    "                      width= 1000,\n",
    "                      height = 600\n",
    "                      ) \n",
    "fig.update_layout(title_x = 0.5, \n",
    "                      margin=dict(l=50,r=50,b=50,t=50,pad=4),\n",
    "                      xaxis_title = '',\n",
    "                      yaxis_title = '',\n",
    "                      template = 'plotly_dark'\n",
    "                      )\n",
    "fig.update_layout({'plot_bgcolor': 'rgba(0, 0, 0, 0)',\n",
    "                      'paper_bgcolor': 'rgba(0, 0, 0, 0)'}\n",
    "                      )       \n",
    "fig.show()"
   ]
  },
  {
   "attachments": {},
   "cell_type": "markdown",
   "metadata": {},
   "source": [
    "- As we can see, on April 30 the number of requests increase from 15 pm to 20 pm.\n",
    "\n",
    "- Early in the morning the number of users is low until 5 am, where the requests duplicates.\n",
    "\n",
    "- From 9 am to 13 pm they stagnate. "
   ]
  },
  {
   "cell_type": "code",
   "execution_count": 14,
   "metadata": {},
   "outputs": [
    {
     "data": {
      "text/plain": [
       "(16501, 9)"
      ]
     },
     "execution_count": 14,
     "metadata": {},
     "output_type": "execute_result"
    }
   ],
   "source": [
    "# We keep only data at the late afternoon part\n",
    "data_evening = data[data['Hour'].isin([i for i in range(15,21)])]\n",
    "data_evening.shape"
   ]
  },
  {
   "attachments": {},
   "cell_type": "markdown",
   "metadata": {},
   "source": [
    "- ## K-Means"
   ]
  },
  {
   "attachments": {},
   "cell_type": "markdown",
   "metadata": {},
   "source": [
    "#### Elbow Method"
   ]
  },
  {
   "cell_type": "code",
   "execution_count": 15,
   "metadata": {},
   "outputs": [
    {
     "name": "stdout",
     "output_type": "stream",
     "text": [
      "[24.644497910895513, 17.43925960526812, 13.804553543658097, 10.84161038401813, 8.780203220965008, 7.017771207616099, 5.847649549317733, 5.047997185565777, 4.579710831733294]\n"
     ]
    }
   ],
   "source": [
    "# Elbow method to find the optimal number of clusters \n",
    "X = data_evening[['Lat', 'Lon']]\n",
    "\n",
    "wcss =  []\n",
    "for i in range (2,11): \n",
    "    kmeans = KMeans(n_clusters= i)\n",
    "    kmeans.fit(X)\n",
    "    wcss.append(kmeans.inertia_)\n",
    "    \n",
    "print(wcss)"
   ]
  },
  {
   "cell_type": "code",
   "execution_count": null,
   "metadata": {},
   "outputs": [],
   "source": [
    "# a graph can help us to choose the number of clusters\n",
    "fig = px.line(x = range(2,11), y = wcss)\n",
    "fig.show()"
   ]
  },
  {
   "attachments": {},
   "cell_type": "markdown",
   "metadata": {},
   "source": [
    "K-Means Elbow method suggests that 3 is the optimal number of clusters."
   ]
  },
  {
   "cell_type": "code",
   "execution_count": 17,
   "metadata": {},
   "outputs": [
    {
     "name": "stderr",
     "output_type": "stream",
     "text": [
      "/var/folders/55/_brcz08d38q6r2yjr_7p6_2r0000gn/T/ipykernel_7708/2912580025.py:6: SettingWithCopyWarning:\n",
      "\n",
      "\n",
      "A value is trying to be set on a copy of a slice from a DataFrame.\n",
      "Try using .loc[row_indexer,col_indexer] = value instead\n",
      "\n",
      "See the caveats in the documentation: https://pandas.pydata.org/pandas-docs/stable/user_guide/indexing.html#returning-a-view-versus-a-copy\n",
      "\n"
     ]
    }
   ],
   "source": [
    "# We choose the number of clusters\n",
    "kmeans = KMeans(n_clusters= 3)\n",
    "kmeans.fit(X)\n",
    "\n",
    "# add a new column in the dataset with predictions\n",
    "data_evening.loc[:,'Cluster_Elbow_KMeans'] = kmeans.predict(X)"
   ]
  },
  {
   "cell_type": "code",
   "execution_count": null,
   "metadata": {},
   "outputs": [],
   "source": [
    "# show it\n",
    "fig = px.scatter_mapbox(\n",
    "        data_evening, \n",
    "        lat=\"Lat\", \n",
    "        lon=\"Lon\",\n",
    "        color=\"Cluster_Elbow_KMeans\",\n",
    "        mapbox_style=\"carto-positron\"\n",
    ")\n",
    "\n",
    "fig.update_layout(width = 1000,\n",
    "                  height = 800,\n",
    "                  title_x = 0.5, \n",
    "                  template = 'plotly_dark',\n",
    "                  margin = {\"l\": 0, \"r\": 0, \"b\": 0, \"t\": 80},\n",
    "                  )\n",
    "\n",
    "fig.show()"
   ]
  },
  {
   "attachments": {},
   "cell_type": "markdown",
   "metadata": {},
   "source": [
    "#### Silhouette Method"
   ]
  },
  {
   "cell_type": "code",
   "execution_count": 19,
   "metadata": {},
   "outputs": [
    {
     "name": "stdout",
     "output_type": "stream",
     "text": [
      "[0.7876237123521267, 0.44762895634566596, 0.4621852337308618, 0.4708449135479972, 0.4885728282284252, 0.49096380200963763, 0.4127858358004401, 0.42310988167595026, 0.4331425561283819]\n"
     ]
    }
   ],
   "source": [
    "# Now use the Silhouette score to choose the optimal number of clusters\n",
    "\n",
    "s_score = []\n",
    "for i in range (2,11): \n",
    "    kmeans = KMeans(n_clusters= i)\n",
    "    kmeans.fit(X)\n",
    "    s_score.append(silhouette_score(X, kmeans.predict(X)))\n",
    "\n",
    "print(s_score)"
   ]
  },
  {
   "cell_type": "code",
   "execution_count": null,
   "metadata": {},
   "outputs": [],
   "source": [
    "# Show the scores depending on clusters\n",
    "fig = px.bar(x = range(2,11), y = s_score)\n",
    "fig.show()"
   ]
  },
  {
   "attachments": {},
   "cell_type": "markdown",
   "metadata": {},
   "source": [
    "However, Silhouette method has predicted only two clusters"
   ]
  },
  {
   "cell_type": "code",
   "execution_count": 21,
   "metadata": {},
   "outputs": [
    {
     "name": "stderr",
     "output_type": "stream",
     "text": [
      "/var/folders/55/_brcz08d38q6r2yjr_7p6_2r0000gn/T/ipykernel_7708/3458272030.py:6: SettingWithCopyWarning:\n",
      "\n",
      "\n",
      "A value is trying to be set on a copy of a slice from a DataFrame.\n",
      "Try using .loc[row_indexer,col_indexer] = value instead\n",
      "\n",
      "See the caveats in the documentation: https://pandas.pydata.org/pandas-docs/stable/user_guide/indexing.html#returning-a-view-versus-a-copy\n",
      "\n"
     ]
    }
   ],
   "source": [
    "# We choose the number of clusters\n",
    "kmeans = KMeans(n_clusters= 2)\n",
    "kmeans.fit(X)\n",
    "\n",
    "# add a new column in the dataset with predictions\n",
    "data_evening.loc[:,'Cluster_Silhouette_KMeans'] = kmeans.predict(X)"
   ]
  },
  {
   "cell_type": "code",
   "execution_count": null,
   "metadata": {},
   "outputs": [],
   "source": [
    "# show it\n",
    "fig = px.scatter_mapbox(\n",
    "        data_evening, \n",
    "        lat=\"Lat\", \n",
    "        lon=\"Lon\",\n",
    "        color=\"Cluster_Silhouette_KMeans\",\n",
    "        mapbox_style=\"carto-positron\"\n",
    ")\n",
    "\n",
    "fig.update_layout(width = 1000,\n",
    "                  height = 800,\n",
    "                  title_x = 0.5, \n",
    "                  template = 'plotly_dark',\n",
    "                  margin = {\"l\": 0, \"r\": 0, \"b\": 0, \"t\": 80},\n",
    "                  )\n",
    "\n",
    "fig.show()"
   ]
  },
  {
   "attachments": {},
   "cell_type": "markdown",
   "metadata": {},
   "source": [
    "Kmeans is usefull to make a separation but it does not inform about the density of requests.\n",
    "\n",
    "Let's try DBSCAN"
   ]
  },
  {
   "attachments": {},
   "cell_type": "markdown",
   "metadata": {},
   "source": [
    "- ## DBSCAN"
   ]
  },
  {
   "cell_type": "code",
   "execution_count": 23,
   "metadata": {},
   "outputs": [
    {
     "name": "stdout",
     "output_type": "stream",
     "text": [
      "[-1  0  1  2  3  4  5  6  7]\n"
     ]
    },
    {
     "name": "stderr",
     "output_type": "stream",
     "text": [
      "/var/folders/55/_brcz08d38q6r2yjr_7p6_2r0000gn/T/ipykernel_7708/1481395473.py:11: SettingWithCopyWarning:\n",
      "\n",
      "\n",
      "A value is trying to be set on a copy of a slice from a DataFrame.\n",
      "Try using .loc[row_indexer,col_indexer] = value instead\n",
      "\n",
      "See the caveats in the documentation: https://pandas.pydata.org/pandas-docs/stable/user_guide/indexing.html#returning-a-view-versus-a-copy\n",
      "\n"
     ]
    }
   ],
   "source": [
    "# Let's try DBSCAN with the right settings\n",
    "from sklearn.cluster import DBSCAN\n",
    "\n",
    "db = DBSCAN(n_jobs=-1, eps = 0.008, min_samples = 22, metric = 'manhattan') # instanciate DBSCAN with the optimals params\n",
    "\n",
    "db.fit(X)\n",
    "# use numpy.unique to show the number of unique values\n",
    "import numpy as np\n",
    "print(np.unique(db.labels_))\n",
    "# add a new column in the dataset with predictions\n",
    "data_evening[\"cluster\"] = db.labels_"
   ]
  },
  {
   "attachments": {},
   "cell_type": "markdown",
   "metadata": {},
   "source": [
    "According to DBSCAN, 8 is the optimal number of clusters."
   ]
  },
  {
   "cell_type": "code",
   "execution_count": null,
   "metadata": {},
   "outputs": [],
   "source": [
    "# show it\n",
    "fig = px.scatter_mapbox(data_evening[data_evening.cluster != -1], # we select all the columns except outliers\n",
    "        lat=\"Lat\", \n",
    "        lon=\"Lon\",\n",
    "        color=\"cluster\",\n",
    "        mapbox_style=\"carto-positron\",\n",
    ")\n",
    "\n",
    "fig.update_layout(width = 1000,\n",
    "                  height = 800,\n",
    "                  title_x = 0.5, \n",
    "                  template = 'plotly_dark',\n",
    "                  margin = {\"l\": 0, \"r\": 0, \"b\": 0, \"t\": 80},\n",
    "                  )\n",
    "\n",
    "fig.show()"
   ]
  },
  {
   "attachments": {},
   "cell_type": "markdown",
   "metadata": {},
   "source": [
    "From 15 pm to 20 pm, we can observe that :\n",
    "- The highest number of users requests are from Manhattan.\n",
    "- The second highest area is Brooklyn.\n",
    "- Some users reserve drivers from Kennedy and LG Airports."
   ]
  },
  {
   "attachments": {},
   "cell_type": "markdown",
   "metadata": {},
   "source": [
    "#### Let's try our algorithm on the whole day of April 30"
   ]
  },
  {
   "cell_type": "code",
   "execution_count": 25,
   "metadata": {},
   "outputs": [
    {
     "name": "stdout",
     "output_type": "stream",
     "text": [
      "[-1  0  1  2  3  4  5  6  7  8  9 10 11]\n"
     ]
    },
    {
     "name": "stderr",
     "output_type": "stream",
     "text": [
      "/var/folders/55/_brcz08d38q6r2yjr_7p6_2r0000gn/T/ipykernel_7708/720005935.py:10: SettingWithCopyWarning:\n",
      "\n",
      "\n",
      "A value is trying to be set on a copy of a slice from a DataFrame.\n",
      "Try using .loc[row_indexer,col_indexer] = value instead\n",
      "\n",
      "See the caveats in the documentation: https://pandas.pydata.org/pandas-docs/stable/user_guide/indexing.html#returning-a-view-versus-a-copy\n",
      "\n"
     ]
    }
   ],
   "source": [
    "april = data[['Lat', 'Lon']] # select Latitude and Longitude from April 30 dataset\n",
    "\n",
    "db2 = DBSCAN(n_jobs=-1, eps = 0.005, min_samples = 20, metric = 'manhattan') # instanciate DBSCAN with the optimals params\n",
    "\n",
    "db2.fit(april)\n",
    "# use numpy.unique to show the number of unique values\n",
    "import numpy as np\n",
    "print(np.unique(db2.labels_))\n",
    "# add a new column in the dataset with predictions\n",
    "data[\"cluster\"] = db2.labels_"
   ]
  },
  {
   "cell_type": "code",
   "execution_count": null,
   "metadata": {},
   "outputs": [],
   "source": [
    "# show it\n",
    "fig = px.scatter_mapbox(data[data.cluster != -1],\n",
    "        lat=\"Lat\", \n",
    "        lon=\"Lon\",\n",
    "        color=\"cluster\",\n",
    "        mapbox_style=\"carto-positron\",\n",
    ")\n",
    "\n",
    "fig.update_layout(width = 1000,\n",
    "                  height = 800,\n",
    "                  title_x = 0.5, \n",
    "                  template = 'plotly_dark',\n",
    "                  margin = {\"l\": 0, \"r\": 0, \"b\": 0, \"t\": 80},\n",
    "                  )\n",
    "\n",
    "fig.show()"
   ]
  },
  {
   "attachments": {},
   "cell_type": "markdown",
   "metadata": {},
   "source": [
    "On the whole day of April 30 :\n",
    "- The hottest zone is still Manhattan\n",
    "- A significant number of users requests are from Brooklyn\n",
    "- Uber drivers must supervise Airports Areas and New Jersey"
   ]
  },
  {
   "attachments": {},
   "cell_type": "markdown",
   "metadata": {},
   "source": [
    "### Let's try to see ours clusters on each hour "
   ]
  },
  {
   "cell_type": "code",
   "execution_count": null,
   "metadata": {},
   "outputs": [],
   "source": [
    "# show hot zone areas with hours animation frame\n",
    "fig = px.scatter_mapbox(data[data.cluster != -1],\n",
    "        lat=\"Lat\", \n",
    "        lon=\"Lon\",\n",
    "        color=\"cluster\",\n",
    "        mapbox_style=\"carto-positron\",\n",
    "        animation_frame='Hour'\n",
    ")\n",
    "\n",
    "fig.update_layout(width = 1000,\n",
    "                  height = 800,\n",
    "                  title_x = 0.5, \n",
    "                  template = 'plotly_dark',\n",
    "                  margin = {\"l\": 0, \"r\": 0, \"b\": 0, \"t\": 80},\n",
    "                  )\n",
    "\n",
    "fig.show()"
   ]
  },
  {
   "attachments": {},
   "cell_type": "markdown",
   "metadata": {},
   "source": [
    "- On April 30 and during the day, users calls are lower from 1 am until 6 am.\n",
    "- From 7 am and 20 pm Uber has to increase the number of Drivers to cover users requests."
   ]
  },
  {
   "attachments": {},
   "cell_type": "markdown",
   "metadata": {},
   "source": [
    "## Conclusion"
   ]
  },
  {
   "attachments": {},
   "cell_type": "markdown",
   "metadata": {},
   "source": [
    "Our sample was based on April 30 and we observed :\n",
    "\n",
    "- Manhattan is the area to __supervise carefully__ to avoid making users wait more than 7 minutes.\n",
    "\n",
    "- Some drivers have to cover Brooklyn, New Jersey and Airports areas too.\n",
    "\n",
    "\n",
    "DBSCN seems to be the perfect algorithm to deal with this kind of problem.\n",
    "\n",
    "To improve its own services, Uber should notify its drivers in real time about hot zones and, using drivers gps, advice the right place to be."
   ]
  }
 ],
 "metadata": {
  "kernelspec": {
   "display_name": "base",
   "language": "python",
   "name": "python3"
  },
  "language_info": {
   "codemirror_mode": {
    "name": "ipython",
    "version": 3
   },
   "file_extension": ".py",
   "mimetype": "text/x-python",
   "name": "python",
   "nbconvert_exporter": "python",
   "pygments_lexer": "ipython3",
   "version": "3.9.13"
  },
  "orig_nbformat": 4,
  "vscode": {
   "interpreter": {
    "hash": "40d3a090f54c6569ab1632332b64b2c03c39dcf918b08424e98f38b5ae0af88f"
   }
  }
 },
 "nbformat": 4,
 "nbformat_minor": 2
}
